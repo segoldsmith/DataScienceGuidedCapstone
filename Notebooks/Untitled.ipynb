{
 "cells": [
  {
   "cell_type": "code",
   "execution_count": 1,
   "id": "16363da1",
   "metadata": {},
   "outputs": [
    {
     "name": "stdout",
     "output_type": "stream",
     "text": [
      "Mean mae of -44.28 with a standard deviation of 2.10\n",
      "Mean r2 of 0.48 with a standard deviation of 0.05\n"
     ]
    }
   ],
   "source": [
    "from sklearn import datasets\n",
    "from sklearn.model_selection import cross_validate\n",
    "from sklearn.linear_model import LinearRegression\n",
    "\n",
    "X, y = datasets.load_diabetes(return_X_y=True)\n",
    "metrics = ['neg_mean_absolute_error', 'r2']\n",
    "model = LinearRegression()\n",
    "scores = cross_validate(model, X, y, cv=5, scoring=metrics)\n",
    "\n",
    "mae_scores = scores['test_neg_mean_absolute_error']\n",
    "r2_scores = scores['test_r2']\n",
    "\n",
    "print(\"Mean mae of %0.2f with a standard deviation of %0.2f\" % (mae_scores.mean(), mae_scores.std()))\n",
    "print(\"Mean r2 of %0.2f with a standard deviation of %0.2f\" % (r2_scores.mean(), r2_scores.std()))"
   ]
  },
  {
   "cell_type": "code",
   "execution_count": null,
   "id": "90f6729b",
   "metadata": {},
   "outputs": [],
   "source": []
  }
 ],
 "metadata": {
  "kernelspec": {
   "display_name": "Python 3 (ipykernel)",
   "language": "python",
   "name": "python3"
  },
  "language_info": {
   "codemirror_mode": {
    "name": "ipython",
    "version": 3
   },
   "file_extension": ".py",
   "mimetype": "text/x-python",
   "name": "python",
   "nbconvert_exporter": "python",
   "pygments_lexer": "ipython3",
   "version": "3.11.7"
  }
 },
 "nbformat": 4,
 "nbformat_minor": 5
}
